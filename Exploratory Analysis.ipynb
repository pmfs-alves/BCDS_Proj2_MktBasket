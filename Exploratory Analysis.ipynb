{
 "cells": [
  {
   "cell_type": "code",
   "execution_count": 102,
   "metadata": {},
   "outputs": [],
   "source": [
    "import pandas as pd\n",
    "import numpy as np\n",
    "import matplotlib.pyplot as plt\n",
    "import seaborn as sns"
   ]
  },
  {
   "cell_type": "markdown",
   "metadata": {},
   "source": [
    "## Import File & Initial Check"
   ]
  },
  {
   "cell_type": "code",
   "execution_count": 3,
   "metadata": {},
   "outputs": [],
   "source": [
    "df1 = pd.read_csv('./data/AsianRestaurant_Cyprus_2018.txt', sep=';')"
   ]
  },
  {
   "cell_type": "code",
   "execution_count": 4,
   "metadata": {},
   "outputs": [],
   "source": [
    "df2 = pd.read_csv('./data/AsianRestaurant_Cyprus_2018_partial.txt', sep=';')"
   ]
  },
  {
   "cell_type": "code",
   "execution_count": 5,
   "metadata": {},
   "outputs": [
    {
     "data": {
      "text/html": [
       "<div>\n",
       "<style scoped>\n",
       "    .dataframe tbody tr th:only-of-type {\n",
       "        vertical-align: middle;\n",
       "    }\n",
       "\n",
       "    .dataframe tbody tr th {\n",
       "        vertical-align: top;\n",
       "    }\n",
       "\n",
       "    .dataframe thead th {\n",
       "        text-align: right;\n",
       "    }\n",
       "</style>\n",
       "<table border=\"1\" class=\"dataframe\">\n",
       "  <thead>\n",
       "    <tr style=\"text-align: right;\">\n",
       "      <th></th>\n",
       "      <th>DocNumber</th>\n",
       "      <th>ProductDesignation</th>\n",
       "      <th>ProductFamily</th>\n",
       "      <th>Qty</th>\n",
       "      <th>TotalAmount</th>\n",
       "      <th>InvoiceDateHour</th>\n",
       "      <th>EmployeeID</th>\n",
       "      <th>IsDelivery</th>\n",
       "      <th>Pax</th>\n",
       "      <th>CustomerID</th>\n",
       "      <th>CustomerCity</th>\n",
       "      <th>CustomerSince</th>\n",
       "    </tr>\n",
       "  </thead>\n",
       "  <tbody>\n",
       "    <tr>\n",
       "      <td>0</td>\n",
       "      <td>110000012018</td>\n",
       "      <td>SWEETCORN SOUP</td>\n",
       "      <td>SOUPS</td>\n",
       "      <td>2.0</td>\n",
       "      <td>12,00</td>\n",
       "      <td>2018-01-01 21:47:27.000</td>\n",
       "      <td>2</td>\n",
       "      <td>0</td>\n",
       "      <td>2</td>\n",
       "      <td>0</td>\n",
       "      <td>NaN</td>\n",
       "      <td>NaN</td>\n",
       "    </tr>\n",
       "    <tr>\n",
       "      <td>1</td>\n",
       "      <td>110000012018</td>\n",
       "      <td>SPRING ROLL</td>\n",
       "      <td>STARTERS</td>\n",
       "      <td>2.0</td>\n",
       "      <td>5,80</td>\n",
       "      <td>2018-01-01 21:47:27.000</td>\n",
       "      <td>2</td>\n",
       "      <td>0</td>\n",
       "      <td>2</td>\n",
       "      <td>0</td>\n",
       "      <td>NaN</td>\n",
       "      <td>NaN</td>\n",
       "    </tr>\n",
       "    <tr>\n",
       "      <td>2</td>\n",
       "      <td>110000012018</td>\n",
       "      <td>EGG FRIED RICE</td>\n",
       "      <td>RICE</td>\n",
       "      <td>1.0</td>\n",
       "      <td>6,90</td>\n",
       "      <td>2018-01-01 21:47:27.000</td>\n",
       "      <td>2</td>\n",
       "      <td>0</td>\n",
       "      <td>2</td>\n",
       "      <td>0</td>\n",
       "      <td>NaN</td>\n",
       "      <td>NaN</td>\n",
       "    </tr>\n",
       "    <tr>\n",
       "      <td>3</td>\n",
       "      <td>110000012018</td>\n",
       "      <td>SWEET SOUR CHICKEN</td>\n",
       "      <td>MEAT</td>\n",
       "      <td>1.0</td>\n",
       "      <td>12,60</td>\n",
       "      <td>2018-01-01 21:47:27.000</td>\n",
       "      <td>2</td>\n",
       "      <td>0</td>\n",
       "      <td>2</td>\n",
       "      <td>0</td>\n",
       "      <td>NaN</td>\n",
       "      <td>NaN</td>\n",
       "    </tr>\n",
       "    <tr>\n",
       "      <td>4</td>\n",
       "      <td>110000012018</td>\n",
       "      <td>LAMB ROGAN JOSH</td>\n",
       "      <td>MAIN IND</td>\n",
       "      <td>1.0</td>\n",
       "      <td>14,60</td>\n",
       "      <td>2018-01-01 21:47:27.000</td>\n",
       "      <td>2</td>\n",
       "      <td>0</td>\n",
       "      <td>2</td>\n",
       "      <td>0</td>\n",
       "      <td>NaN</td>\n",
       "      <td>NaN</td>\n",
       "    </tr>\n",
       "  </tbody>\n",
       "</table>\n",
       "</div>"
      ],
      "text/plain": [
       "      DocNumber  ProductDesignation ProductFamily  Qty TotalAmount  \\\n",
       "0  110000012018      SWEETCORN SOUP         SOUPS  2.0       12,00   \n",
       "1  110000012018         SPRING ROLL      STARTERS  2.0        5,80   \n",
       "2  110000012018      EGG FRIED RICE          RICE  1.0        6,90   \n",
       "3  110000012018  SWEET SOUR CHICKEN          MEAT  1.0       12,60   \n",
       "4  110000012018     LAMB ROGAN JOSH      MAIN IND  1.0       14,60   \n",
       "\n",
       "           InvoiceDateHour  EmployeeID  IsDelivery  Pax  CustomerID  \\\n",
       "0  2018-01-01 21:47:27.000           2           0    2           0   \n",
       "1  2018-01-01 21:47:27.000           2           0    2           0   \n",
       "2  2018-01-01 21:47:27.000           2           0    2           0   \n",
       "3  2018-01-01 21:47:27.000           2           0    2           0   \n",
       "4  2018-01-01 21:47:27.000           2           0    2           0   \n",
       "\n",
       "  CustomerCity CustomerSince  \n",
       "0          NaN           NaN  \n",
       "1          NaN           NaN  \n",
       "2          NaN           NaN  \n",
       "3          NaN           NaN  \n",
       "4          NaN           NaN  "
      ]
     },
     "execution_count": 5,
     "metadata": {},
     "output_type": "execute_result"
    }
   ],
   "source": [
    "df1.head()"
   ]
  },
  {
   "cell_type": "code",
   "execution_count": 6,
   "metadata": {},
   "outputs": [
    {
     "data": {
      "text/plain": [
       "(84109, 12)"
      ]
     },
     "execution_count": 6,
     "metadata": {},
     "output_type": "execute_result"
    }
   ],
   "source": [
    "df1.shape"
   ]
  },
  {
   "cell_type": "code",
   "execution_count": 7,
   "metadata": {},
   "outputs": [
    {
     "data": {
      "text/html": [
       "<div>\n",
       "<style scoped>\n",
       "    .dataframe tbody tr th:only-of-type {\n",
       "        vertical-align: middle;\n",
       "    }\n",
       "\n",
       "    .dataframe tbody tr th {\n",
       "        vertical-align: top;\n",
       "    }\n",
       "\n",
       "    .dataframe thead th {\n",
       "        text-align: right;\n",
       "    }\n",
       "</style>\n",
       "<table border=\"1\" class=\"dataframe\">\n",
       "  <thead>\n",
       "    <tr style=\"text-align: right;\">\n",
       "      <th></th>\n",
       "      <th>DocNumber</th>\n",
       "      <th>ProductDesignation</th>\n",
       "    </tr>\n",
       "  </thead>\n",
       "  <tbody>\n",
       "    <tr>\n",
       "      <td>0</td>\n",
       "      <td>110000012018</td>\n",
       "      <td>SWEETCORN SOUP</td>\n",
       "    </tr>\n",
       "    <tr>\n",
       "      <td>1</td>\n",
       "      <td>110000012018</td>\n",
       "      <td>SPRING ROLL</td>\n",
       "    </tr>\n",
       "    <tr>\n",
       "      <td>2</td>\n",
       "      <td>110000012018</td>\n",
       "      <td>EGG FRIED RICE</td>\n",
       "    </tr>\n",
       "    <tr>\n",
       "      <td>3</td>\n",
       "      <td>110000012018</td>\n",
       "      <td>SWEET SOUR CHICKEN</td>\n",
       "    </tr>\n",
       "    <tr>\n",
       "      <td>4</td>\n",
       "      <td>110000012018</td>\n",
       "      <td>LAMB ROGAN JOSH</td>\n",
       "    </tr>\n",
       "  </tbody>\n",
       "</table>\n",
       "</div>"
      ],
      "text/plain": [
       "      DocNumber  ProductDesignation\n",
       "0  110000012018      SWEETCORN SOUP\n",
       "1  110000012018         SPRING ROLL\n",
       "2  110000012018      EGG FRIED RICE\n",
       "3  110000012018  SWEET SOUR CHICKEN\n",
       "4  110000012018     LAMB ROGAN JOSH"
      ]
     },
     "execution_count": 7,
     "metadata": {},
     "output_type": "execute_result"
    }
   ],
   "source": [
    "df2.head()"
   ]
  },
  {
   "cell_type": "code",
   "execution_count": 76,
   "metadata": {},
   "outputs": [
    {
     "data": {
      "text/plain": [
       "DocNumber               int64\n",
       "ProductDesignation     object\n",
       "ProductFamily          object\n",
       "Qty                   float64\n",
       "TotalAmount            object\n",
       "InvoiceDateHour        object\n",
       "EmployeeID              int64\n",
       "IsDelivery              int64\n",
       "Pax                     int64\n",
       "CustomerID              int64\n",
       "CustomerCity           object\n",
       "CustomerSince          object\n",
       "dtype: object"
      ]
     },
     "execution_count": 76,
     "metadata": {},
     "output_type": "execute_result"
    }
   ],
   "source": [
    "df1.dtypes"
   ]
  },
  {
   "cell_type": "code",
   "execution_count": 259,
   "metadata": {},
   "outputs": [],
   "source": [
    "#corrigir o tipo do Total\n",
    "#df1[[\"TotalAmount \"]] = df1[[\"TotalAmount\"]].apply(pd.to_numeric)\n",
    "#df1.TotalAmount.stack().str.replace(',','.').unstack()\n",
    "df1.TotalAmount=df1.TotalAmount.apply(lambda x:float(str( x.replace(',','.'))))"
   ]
  },
  {
   "cell_type": "code",
   "execution_count": 260,
   "metadata": {},
   "outputs": [
    {
     "data": {
      "text/plain": [
       "DocNumber               int64\n",
       "ProductDesignation     object\n",
       "ProductFamily          object\n",
       "Qty                   float64\n",
       "TotalAmount           float64\n",
       "InvoiceDateHour        object\n",
       "EmployeeID              int64\n",
       "IsDelivery              int64\n",
       "Pax                     int64\n",
       "CustomerID              int64\n",
       "CustomerCity           object\n",
       "CustomerSince          object\n",
       "dtype: object"
      ]
     },
     "execution_count": 260,
     "metadata": {},
     "output_type": "execute_result"
    }
   ],
   "source": [
    "df1.dtypes"
   ]
  },
  {
   "cell_type": "code",
   "execution_count": 77,
   "metadata": {},
   "outputs": [
    {
     "data": {
      "text/html": [
       "<div>\n",
       "<style scoped>\n",
       "    .dataframe tbody tr th:only-of-type {\n",
       "        vertical-align: middle;\n",
       "    }\n",
       "\n",
       "    .dataframe tbody tr th {\n",
       "        vertical-align: top;\n",
       "    }\n",
       "\n",
       "    .dataframe thead th {\n",
       "        text-align: right;\n",
       "    }\n",
       "</style>\n",
       "<table border=\"1\" class=\"dataframe\">\n",
       "  <thead>\n",
       "    <tr style=\"text-align: right;\">\n",
       "      <th></th>\n",
       "      <th>DocNumber</th>\n",
       "      <th>Qty</th>\n",
       "      <th>EmployeeID</th>\n",
       "      <th>IsDelivery</th>\n",
       "      <th>Pax</th>\n",
       "      <th>CustomerID</th>\n",
       "    </tr>\n",
       "  </thead>\n",
       "  <tbody>\n",
       "    <tr>\n",
       "      <td>count</td>\n",
       "      <td>8.410900e+04</td>\n",
       "      <td>84109.000000</td>\n",
       "      <td>84109.000000</td>\n",
       "      <td>84109.000000</td>\n",
       "      <td>84109.000000</td>\n",
       "      <td>84109.000000</td>\n",
       "    </tr>\n",
       "    <tr>\n",
       "      <td>mean</td>\n",
       "      <td>1.884754e+11</td>\n",
       "      <td>1.261256</td>\n",
       "      <td>3.591221</td>\n",
       "      <td>0.371518</td>\n",
       "      <td>3.300800</td>\n",
       "      <td>12633.065760</td>\n",
       "    </tr>\n",
       "    <tr>\n",
       "      <td>std</td>\n",
       "      <td>1.005264e+11</td>\n",
       "      <td>0.923780</td>\n",
       "      <td>3.682017</td>\n",
       "      <td>0.483213</td>\n",
       "      <td>3.693792</td>\n",
       "      <td>21952.076038</td>\n",
       "    </tr>\n",
       "    <tr>\n",
       "      <td>min</td>\n",
       "      <td>1.100000e+11</td>\n",
       "      <td>1.000000</td>\n",
       "      <td>2.000000</td>\n",
       "      <td>0.000000</td>\n",
       "      <td>0.000000</td>\n",
       "      <td>0.000000</td>\n",
       "    </tr>\n",
       "    <tr>\n",
       "      <td>25%</td>\n",
       "      <td>1.100240e+11</td>\n",
       "      <td>1.000000</td>\n",
       "      <td>2.000000</td>\n",
       "      <td>0.000000</td>\n",
       "      <td>1.000000</td>\n",
       "      <td>0.000000</td>\n",
       "    </tr>\n",
       "    <tr>\n",
       "      <td>50%</td>\n",
       "      <td>1.100497e+11</td>\n",
       "      <td>1.000000</td>\n",
       "      <td>2.000000</td>\n",
       "      <td>0.000000</td>\n",
       "      <td>2.000000</td>\n",
       "      <td>0.000000</td>\n",
       "    </tr>\n",
       "    <tr>\n",
       "      <td>75%</td>\n",
       "      <td>3.200125e+11</td>\n",
       "      <td>1.000000</td>\n",
       "      <td>5.000000</td>\n",
       "      <td>1.000000</td>\n",
       "      <td>4.000000</td>\n",
       "      <td>16429.000000</td>\n",
       "    </tr>\n",
       "    <tr>\n",
       "      <td>max</td>\n",
       "      <td>3.200445e+11</td>\n",
       "      <td>53.000000</td>\n",
       "      <td>27.000000</td>\n",
       "      <td>1.000000</td>\n",
       "      <td>200.000000</td>\n",
       "      <td>69101.000000</td>\n",
       "    </tr>\n",
       "  </tbody>\n",
       "</table>\n",
       "</div>"
      ],
      "text/plain": [
       "          DocNumber           Qty    EmployeeID    IsDelivery           Pax  \\\n",
       "count  8.410900e+04  84109.000000  84109.000000  84109.000000  84109.000000   \n",
       "mean   1.884754e+11      1.261256      3.591221      0.371518      3.300800   \n",
       "std    1.005264e+11      0.923780      3.682017      0.483213      3.693792   \n",
       "min    1.100000e+11      1.000000      2.000000      0.000000      0.000000   \n",
       "25%    1.100240e+11      1.000000      2.000000      0.000000      1.000000   \n",
       "50%    1.100497e+11      1.000000      2.000000      0.000000      2.000000   \n",
       "75%    3.200125e+11      1.000000      5.000000      1.000000      4.000000   \n",
       "max    3.200445e+11     53.000000     27.000000      1.000000    200.000000   \n",
       "\n",
       "         CustomerID  \n",
       "count  84109.000000  \n",
       "mean   12633.065760  \n",
       "std    21952.076038  \n",
       "min        0.000000  \n",
       "25%        0.000000  \n",
       "50%        0.000000  \n",
       "75%    16429.000000  \n",
       "max    69101.000000  "
      ]
     },
     "execution_count": 77,
     "metadata": {},
     "output_type": "execute_result"
    }
   ],
   "source": [
    "#numéricas\n",
    "df1.describe()"
   ]
  },
  {
   "cell_type": "code",
   "execution_count": 78,
   "metadata": {},
   "outputs": [
    {
     "data": {
      "text/html": [
       "<div>\n",
       "<style scoped>\n",
       "    .dataframe tbody tr th:only-of-type {\n",
       "        vertical-align: middle;\n",
       "    }\n",
       "\n",
       "    .dataframe tbody tr th {\n",
       "        vertical-align: top;\n",
       "    }\n",
       "\n",
       "    .dataframe thead th {\n",
       "        text-align: right;\n",
       "    }\n",
       "</style>\n",
       "<table border=\"1\" class=\"dataframe\">\n",
       "  <thead>\n",
       "    <tr style=\"text-align: right;\">\n",
       "      <th></th>\n",
       "      <th>ProductDesignation</th>\n",
       "      <th>ProductFamily</th>\n",
       "      <th>TotalAmount</th>\n",
       "      <th>InvoiceDateHour</th>\n",
       "      <th>CustomerCity</th>\n",
       "      <th>CustomerSince</th>\n",
       "    </tr>\n",
       "  </thead>\n",
       "  <tbody>\n",
       "    <tr>\n",
       "      <td>count</td>\n",
       "      <td>84109</td>\n",
       "      <td>84109</td>\n",
       "      <td>84109</td>\n",
       "      <td>84109</td>\n",
       "      <td>31248</td>\n",
       "      <td>29142</td>\n",
       "    </tr>\n",
       "    <tr>\n",
       "      <td>unique</td>\n",
       "      <td>255</td>\n",
       "      <td>27</td>\n",
       "      <td>374</td>\n",
       "      <td>11146</td>\n",
       "      <td>17</td>\n",
       "      <td>2109</td>\n",
       "    </tr>\n",
       "    <tr>\n",
       "      <td>top</td>\n",
       "      <td>MINERAL WATER 1.5LT</td>\n",
       "      <td>STARTERS</td>\n",
       "      <td>3,00</td>\n",
       "      <td>2018-12-24 22:59:54.000</td>\n",
       "      <td>EGKOMI</td>\n",
       "      <td>2005-12-06 15:00:00.000</td>\n",
       "    </tr>\n",
       "    <tr>\n",
       "      <td>freq</td>\n",
       "      <td>7061</td>\n",
       "      <td>14148</td>\n",
       "      <td>9733</td>\n",
       "      <td>46</td>\n",
       "      <td>9423</td>\n",
       "      <td>1164</td>\n",
       "    </tr>\n",
       "  </tbody>\n",
       "</table>\n",
       "</div>"
      ],
      "text/plain": [
       "         ProductDesignation ProductFamily TotalAmount  \\\n",
       "count                 84109         84109       84109   \n",
       "unique                  255            27         374   \n",
       "top     MINERAL WATER 1.5LT      STARTERS        3,00   \n",
       "freq                   7061         14148        9733   \n",
       "\n",
       "                InvoiceDateHour CustomerCity            CustomerSince  \n",
       "count                     84109        31248                    29142  \n",
       "unique                    11146           17                     2109  \n",
       "top     2018-12-24 22:59:54.000       EGKOMI  2005-12-06 15:00:00.000  \n",
       "freq                         46         9423                     1164  "
      ]
     },
     "execution_count": 78,
     "metadata": {},
     "output_type": "execute_result"
    }
   ],
   "source": [
    "df1.describe(include=\"object\")"
   ]
  },
  {
   "cell_type": "markdown",
   "metadata": {},
   "source": [
    "255 Produtos diferentes\n",
    "27 Familias\n",
    "apenas 374 total ammounts diferentes?\n",
    "17 cidades\n"
   ]
  },
  {
   "cell_type": "markdown",
   "metadata": {},
   "source": [
    "## First Explore"
   ]
  },
  {
   "cell_type": "code",
   "execution_count": 11,
   "metadata": {},
   "outputs": [
    {
     "data": {
      "text/plain": [
       "DocNumber                 0\n",
       "ProductDesignation        0\n",
       "ProductFamily             0\n",
       "Qty                       0\n",
       "TotalAmount               0\n",
       "InvoiceDateHour           0\n",
       "EmployeeID                0\n",
       "IsDelivery                0\n",
       "Pax                       0\n",
       "CustomerID                0\n",
       "CustomerCity          52861\n",
       "CustomerSince         54967\n",
       "dtype: int64"
      ]
     },
     "execution_count": 11,
     "metadata": {},
     "output_type": "execute_result"
    }
   ],
   "source": [
    "# só customer city e customer since têm NULLS\n",
    "# CustomerCity - 52 861\n",
    "# CustomerSince - 54967\n",
    "df1.isnull().sum()"
   ]
  },
  {
   "cell_type": "code",
   "execution_count": 13,
   "metadata": {
    "scrolled": true
   },
   "outputs": [
    {
     "data": {
      "text/plain": [
       "0    52861\n",
       "1    31248\n",
       "Name: IsDelivery, dtype: int64"
      ]
     },
     "execution_count": 13,
     "metadata": {},
     "output_type": "execute_result"
    }
   ],
   "source": [
    "df1.IsDelivery.value_counts()\n",
    "# e parece que há um match do numero de nulls  com o de !Delivery"
   ]
  },
  {
   "cell_type": "code",
   "execution_count": 85,
   "metadata": {},
   "outputs": [
    {
     "name": "stdout",
     "output_type": "stream",
     "text": [
      "DocNumber                0\n",
      "ProductDesignation       0\n",
      "ProductFamily            0\n",
      "Qty                      0\n",
      "TotalAmount              0\n",
      "InvoiceDateHour          0\n",
      "EmployeeID               0\n",
      "IsDelivery               0\n",
      "Pax                      0\n",
      "CustomerID               0\n",
      "CustomerCity             0\n",
      "CustomerSince         2106\n",
      "dtype: int64\n",
      "DocNumber                 0\n",
      "ProductDesignation        0\n",
      "ProductFamily             0\n",
      "Qty                       0\n",
      "TotalAmount               0\n",
      "InvoiceDateHour           0\n",
      "EmployeeID                0\n",
      "IsDelivery                0\n",
      "Pax                       0\n",
      "CustomerID                0\n",
      "CustomerCity          52861\n",
      "CustomerSince         52861\n",
      "dtype: int64\n"
     ]
    }
   ],
   "source": [
    "#e verificando \n",
    "print(df1.loc[df1[\"IsDelivery\"]>0, ].isnull().sum())\n",
    "print(df1.loc[df1[\"IsDelivery\"]==0, ].isnull().sum())\n"
   ]
  },
  {
   "cell_type": "markdown",
   "metadata": {},
   "source": [
    "Olhando para o DocNumber"
   ]
  },
  {
   "cell_type": "code",
   "execution_count": 41,
   "metadata": {},
   "outputs": [
    {
     "data": {
      "text/plain": [
       "11147"
      ]
     },
     "execution_count": 41,
     "metadata": {},
     "output_type": "execute_result"
    }
   ],
   "source": [
    "# temos dados sobre 11 147 clientes --de facturas\n",
    "df1['DocNumber'].nunique()\n"
   ]
  },
  {
   "cell_type": "code",
   "execution_count": 55,
   "metadata": {},
   "outputs": [
    {
     "data": {
      "text/plain": [
       "DocNumber\n",
       "110044742018    46\n",
       "110053522018    46\n",
       "110007092018    41\n",
       "110054302018    40\n",
       "110047272018    37\n",
       "                ..\n",
       "320033722018     1\n",
       "320033942018     1\n",
       "110001272018     1\n",
       "110016842018     1\n",
       "110020952018     1\n",
       "Name: DocNumber, Length: 11147, dtype: int64"
      ]
     },
     "execution_count": 55,
     "metadata": {},
     "output_type": "execute_result"
    }
   ],
   "source": [
    "# como cada linha na fatura é uma linha na df, é normal que haja várias rows para o mesmo invoice number\n",
    "df1.DocNumber.value_counts()\n",
    "\n",
    "#Vamos ter de brincar com isto mais uma vez - \n",
    "#provavelmente juntar linhas que são o mesmo produto somando as quantidades\n",
    "#e depois calcular o total de cada factura\n",
    "#depende um bocado do tipo de análises que queremos fazer."
   ]
  },
  {
   "cell_type": "code",
   "execution_count": null,
   "metadata": {},
   "outputs": [],
   "source": [
    "Parecem existir facturas com numero elevado de items e facturas com apenas 1 item. Vamos ver:\n"
   ]
  },
  {
   "cell_type": "code",
   "execution_count": 229,
   "metadata": {},
   "outputs": [
    {
     "data": {
      "text/plain": [
       "count    11147.000000\n",
       "mean         7.545438\n",
       "std          4.119032\n",
       "min          1.000000\n",
       "25%          5.000000\n",
       "50%          7.000000\n",
       "75%          9.000000\n",
       "max         46.000000\n",
       "Name: DocNumber, dtype: float64"
      ]
     },
     "execution_count": 229,
     "metadata": {},
     "output_type": "execute_result"
    }
   ],
   "source": [
    "df1[\"DocNumber\"].value_counts().describe()"
   ]
  },
  {
   "cell_type": "code",
   "execution_count": 169,
   "metadata": {},
   "outputs": [
    {
     "data": {
      "text/plain": [
       "<matplotlib.axes._subplots.AxesSubplot at 0x227ceb94048>"
      ]
     },
     "execution_count": 169,
     "metadata": {},
     "output_type": "execute_result"
    },
    {
     "data": {
      "image/png": "[encoded data removed]",
      "text/plain": [
       "<Figure size 432x288 with 1 Axes>"
      ]
     },
     "metadata": {},
     "output_type": "display_data"
    }
   ],
   "source": [
    "sns.boxplot(df1[\"DocNumber\"].value_counts())"
   ]
  },
  {
   "cell_type": "code",
   "execution_count": 173,
   "metadata": {},
   "outputs": [
    {
     "data": {
      "image/png": "[encoded data removed]",
      "text/plain": [
       "<Figure size 1152x432 with 1 Axes>"
      ]
     },
     "metadata": {},
     "output_type": "display_data"
    }
   ],
   "source": [
    "#E em gráficos\n",
    "\n",
    "a=df1[\"DocNumber\"].value_counts().describe()\n",
    "\n",
    "maxval=df1[\"DocNumber\"].value_counts().value_counts(ascending=True).values.max()\n",
    "linwhismin=a[4]-(a[6]-a[4])\n",
    "linwhismax=a[6]+(a[6]-a[4])\n",
    "\n",
    "sns.set()\n",
    "sns.set_style(\"white\")\n",
    "fig, ax1 = plt.subplots(1, figsize=(16,6))\n",
    "ax1.scatter(df1[\"DocNumber\"].value_counts().value_counts(ascending=True).index,df1[\"DocNumber\"].value_counts().value_counts(ascending=True).values )\n",
    "\n",
    "plt.plot([a[1],a[1]], [0, maxval/4],color=\"red\", linewidth=1) #plot mean\n",
    "plt.plot([linwhismin,linwhismin], [0, maxval/8],color=\"black\", linewidth=1) #plot 1st whisker\n",
    "plt.plot([a[4],a[4]], [0, maxval/4],color=\"black\", linewidth=1) #plot 1st quart\n",
    "plt.plot([a[5],a[5]], [0, maxval/4],color=\"black\", linewidth=1) #plot median\n",
    "plt.plot([a[6],a[6]], [0, maxval/4],color=\"black\", linewidth=1) #plot 3rd quart\n",
    "\n",
    "plt.plot([linwhismax,linwhismax], [0, maxval/8],color=\"black\", linewidth=1) #plot 2nd whisker\n",
    "ax2.boxplot(df1[\"DocNumber\"].value_counts())\n",
    "ax1.set_title(\"Study of Items per Document\", fontsize=20)\n",
    "\n",
    "sns.despine()\n",
    "plt.show()\n",
    "\n",
    "\n",
    "\n"
   ]
  },
  {
   "cell_type": "code",
   "execution_count": 38,
   "metadata": {},
   "outputs": [
    {
     "data": {
      "text/plain": [
       "2316"
      ]
     },
     "execution_count": 38,
     "metadata": {},
     "output_type": "execute_result"
    }
   ],
   "source": [
    "# DE clientes são:\n",
    "df1[\"CustomerID\"].nunique()"
   ]
  },
  {
   "cell_type": "code",
   "execution_count": 39,
   "metadata": {},
   "outputs": [
    {
     "data": {
      "text/plain": [
       "IsDelivery\n",
       "0       1\n",
       "1    2315\n",
       "Name: CustomerID, dtype: int64"
      ]
     },
     "execution_count": 39,
     "metadata": {},
     "output_type": "execute_result"
    }
   ],
   "source": [
    "#dos quais:\n",
    "df1.groupby('IsDelivery')['CustomerID'].nunique()\n",
    "# são quase todos de delivery..."
   ]
  },
  {
   "cell_type": "code",
   "execution_count": 181,
   "metadata": {},
   "outputs": [
    {
     "data": {
      "text/plain": [
       "0    52861\n",
       "Name: CustomerID, dtype: int64"
      ]
     },
     "execution_count": 181,
     "metadata": {},
     "output_type": "execute_result"
    }
   ],
   "source": [
    "#E esse ID é:\n",
    "df1.loc[df1[\"IsDelivery\"]==0, ].CustomerID.value_counts()"
   ]
  },
  {
   "cell_type": "code",
   "execution_count": null,
   "metadata": {},
   "outputs": [],
   "source": [
    "Todos os que comem no restaurante, teem customerID=0\n",
    "Portanto o estudo por cliente, de quem come no restaurante é impossivel."
   ]
  },
  {
   "cell_type": "code",
   "execution_count": 183,
   "metadata": {},
   "outputs": [
    {
     "data": {
      "text/plain": [
       "58239    225\n",
       "1567     210\n",
       "67025    194\n",
       "67875    172\n",
       "68002    154\n",
       "        ... \n",
       "26632      1\n",
       "53376      1\n",
       "66437      1\n",
       "27044      1\n",
       "67042      1\n",
       "Name: CustomerID, Length: 2315, dtype: int64"
      ]
     },
     "execution_count": 183,
     "metadata": {},
     "output_type": "execute_result"
    }
   ],
   "source": [
    "#And for delivery?\n",
    "#How many lines per customer?\n",
    "df1.loc[df1[\"IsDelivery\"]==1, ].CustomerID.value_counts(ascending=False)\n"
   ]
  },
  {
   "cell_type": "markdown",
   "metadata": {},
   "source": [
    "Temos customers com várias linhas\n",
    "e alguns com apenas 1 linha"
   ]
  },
  {
   "cell_type": "code",
   "execution_count": 65,
   "metadata": {},
   "outputs": [
    {
     "data": {
      "text/plain": [
       "IsDelivery  CustomerID\n",
       "0           0             52861\n",
       "1           58239           225\n",
       "            1567            210\n",
       "            67025           194\n",
       "            67875           172\n",
       "                          ...  \n",
       "            28834             1\n",
       "            32303             1\n",
       "            53376             1\n",
       "            66437             1\n",
       "            67042             1\n",
       "Name: CustomerID, Length: 2316, dtype: int64"
      ]
     },
     "execution_count": 65,
     "metadata": {},
     "output_type": "execute_result"
    }
   ],
   "source": [
    "\n",
    "df1.loc[df1[\"IsDelivery\"]==1, ].groupby(['IsDelivery']).CustomerID.value_counts()\n"
   ]
  },
  {
   "cell_type": "code",
   "execution_count": null,
   "metadata": {},
   "outputs": [],
   "source": [
    "Customer ID = 0 , para quem come no restaurante"
   ]
  },
  {
   "cell_type": "code",
   "execution_count": 185,
   "metadata": {},
   "outputs": [
    {
     "data": {
      "text/plain": [
       "DocNumber\n",
       "110053522018    46\n",
       "110044742018    46\n",
       "110007092018    41\n",
       "110054302018    40\n",
       "110016132018    37\n",
       "                ..\n",
       "110005012018     1\n",
       "110014172018     1\n",
       "110014162018     1\n",
       "110014152018     1\n",
       "110039462018     1\n",
       "Length: 6281, dtype: int64"
      ]
     },
     "execution_count": 185,
     "metadata": {},
     "output_type": "execute_result"
    }
   ],
   "source": [
    "df1.loc[df1[\"IsDelivery\"]==0, ].groupby('DocNumber').size().sort_values(ascending=False)\n",
    "#df1.groupby(['CustomerID', 'DocNumber']).value_counts()"
   ]
  },
  {
   "cell_type": "markdown",
   "metadata": {},
   "source": [
    "E temos 6281 facturas de clientes no restaurante com 1 a 46 linhas por factura"
   ]
  },
  {
   "cell_type": "code",
   "execution_count": 186,
   "metadata": {},
   "outputs": [
    {
     "data": {
      "text/plain": [
       "DocNumber\n",
       "320014852018    26\n",
       "320033962018    22\n",
       "320028202018    21\n",
       "320032852018    21\n",
       "320009392018    21\n",
       "                ..\n",
       "320042032018     1\n",
       "320010342018     1\n",
       "310003282018     1\n",
       "320034982018     1\n",
       "320011312018     1\n",
       "Length: 4866, dtype: int64"
      ]
     },
     "execution_count": 186,
     "metadata": {},
     "output_type": "execute_result"
    }
   ],
   "source": [
    "df1.loc[df1[\"IsDelivery\"]==1, ].groupby('DocNumber').size().sort_values(ascending=False)\n",
    "#df1.groupby(['CustomerID', 'DocNumber']).value_counts()"
   ]
  },
  {
   "cell_type": "markdown",
   "metadata": {},
   "source": [
    "E temos 4866 facturas de clientes Delivery com 1 a 26 linhas por factura"
   ]
  },
  {
   "cell_type": "code",
   "execution_count": 215,
   "metadata": {},
   "outputs": [
    {
     "data": {
      "text/plain": [
       "DocNumber     CustomerID\n",
       "320014852018  1583          26\n",
       "320033962018  31037         22\n",
       "320028202018  31930         21\n",
       "320032852018  1204          21\n",
       "320009392018  45288         21\n",
       "                            ..\n",
       "320042032018  66591          1\n",
       "320010342018  61498          1\n",
       "310003282018  34010          1\n",
       "320034982018  31540          1\n",
       "320011312018  66326          1\n",
       "Name: CustomerID, Length: 4866, dtype: int64"
      ]
     },
     "execution_count": 215,
     "metadata": {},
     "output_type": "execute_result"
    }
   ],
   "source": [
    "df1.loc[df1[\"IsDelivery\"]==1, ].groupby('DocNumber').CustomerID.value_counts().sort_values(ascending=False)\n",
    "#contar o número de clientes por numero de facturas associadas?"
   ]
  },
  {
   "cell_type": "code",
   "execution_count": 226,
   "metadata": {},
   "outputs": [
    {
     "data": {
      "text/plain": [
       "1567     42\n",
       "58239    36\n",
       "53159    30\n",
       "67875    30\n",
       "300      28\n",
       "         ..\n",
       "61020     1\n",
       "1629      1\n",
       "1633      1\n",
       "15970     1\n",
       "11726     1\n",
       "Name: CustomerID, Length: 2315, dtype: int64"
      ]
     },
     "execution_count": 226,
     "metadata": {},
     "output_type": "execute_result"
    }
   ],
   "source": [
    "#Do clients reorder ? \n",
    "df1.loc[df1[\"IsDelivery\"]==1, ].drop_duplicates(subset=[\"DocNumber\"]).CustomerID.value_counts()\n"
   ]
  },
  {
   "cell_type": "code",
   "execution_count": 235,
   "metadata": {},
   "outputs": [
    {
     "data": {
      "text/plain": [
       "count    2315.000000\n",
       "mean        2.101944\n",
       "std         2.707104\n",
       "min         1.000000\n",
       "25%         1.000000\n",
       "50%         1.000000\n",
       "75%         2.000000\n",
       "max        42.000000\n",
       "Name: CustomerID, dtype: float64"
      ]
     },
     "execution_count": 235,
     "metadata": {},
     "output_type": "execute_result"
    }
   ],
   "source": [
    "df1.loc[df1[\"IsDelivery\"]==1, ].drop_duplicates(subset=[\"DocNumber\"]).CustomerID.value_counts().describe()"
   ]
  },
  {
   "cell_type": "code",
   "execution_count": 233,
   "metadata": {},
   "outputs": [
    {
     "data": {
      "image/png": "[encoded data removed]",
      "text/plain": [
       "<Figure size 1152x432 with 1 Axes>"
      ]
     },
     "metadata": {},
     "output_type": "display_data"
    }
   ],
   "source": [
    "\n",
    "a=df1.loc[df1[\"IsDelivery\"]==1, ].drop_duplicates(subset=[\"DocNumber\"]).CustomerID.value_counts().describe()\n",
    "\n",
    "maxval=df1.loc[df1[\"IsDelivery\"]==1, ].drop_duplicates(subset=[\"DocNumber\"]).CustomerID.value_counts().value_counts().values.max()\n",
    "linwhismin=a[4]-(a[6]-a[4])\n",
    "linwhismax=a[6]+(a[6]-a[4])\n",
    "\n",
    "sns.set()\n",
    "sns.set_style(\"white\")\n",
    "fig, ax1 = plt.subplots(1, figsize=(16,6))\n",
    "#ax1.scatter(df1[\"DocNumber\"].value_counts().value_counts(ascending=True).index,df1[\"DocNumber\"].value_counts().value_counts(ascending=True).values )\n",
    "ax1.scatter(df1.loc[df1[\"IsDelivery\"]==1, ].drop_duplicates(subset=[\"DocNumber\"]).CustomerID.value_counts().value_counts(ascending=True).index,\n",
    "            df1.loc[df1[\"IsDelivery\"]==1, ].drop_duplicates(subset=[\"DocNumber\"]).CustomerID.value_counts().value_counts(ascending=True).values )\n",
    "\n",
    "plt.plot([a[1],a[1]], [0, maxval/4],color=\"red\", linewidth=1) #plot mean\n",
    "plt.plot([linwhismin,linwhismin], [0, maxval/8],color=\"black\", linewidth=1) #plot 1st whisker\n",
    "plt.plot([a[4],a[4]], [0, maxval/4],color=\"black\", linewidth=1) #plot 1st quart\n",
    "plt.plot([a[5],a[5]], [0, maxval/4],color=\"black\", linewidth=1) #plot median\n",
    "plt.plot([a[6],a[6]], [0, maxval/4],color=\"black\", linewidth=1) #plot 3rd quart\n",
    "\n",
    "plt.plot([linwhismax,linwhismax], [0, maxval/8],color=\"black\", linewidth=1) #plot 2nd whisker\n",
    "ax2.boxplot(df1[\"DocNumber\"].value_counts())\n",
    "ax1.set_title(\"Study of Number of Orders by customer\", fontsize=20)\n",
    "\n",
    "sns.despine()\n",
    "plt.show()"
   ]
  },
  {
   "cell_type": "markdown",
   "metadata": {},
   "source": [
    "Seems like most of our clients don't reorder, or maybe we are not recordeing their details..."
   ]
  },
  {
   "cell_type": "code",
   "execution_count": 248,
   "metadata": {},
   "outputs": [
    {
     "name": "stdout",
     "output_type": "stream",
     "text": [
      "number of customers with 1 order is: 1473 about 63.63% of customers\n",
      "number of customers with 2 or less orders is: 1857 about 80.22% of customers\n",
      "number of customers with 3 or less orders is: 2021 about 87.3% of customers\n"
     ]
    }
   ],
   "source": [
    "a=df1.loc[df1[\"IsDelivery\"]==1, ].drop_duplicates(subset=[\"DocNumber\"]).CustomerID.value_counts()\n",
    "print(\"number of customers with 1 order is: \" + str(a.where(a==1).count())+\n",
    "      \" about \" +str(round(a.where(a==1).count()/2315*100,2) )+\"% of customers\")\n",
    "print(\"number of customers with 2 or less orders is: \" + str(a.where(a<=2).count())+\n",
    "      \" about \" +str(round(a.where(a<=2).count()/2315*100,2) )+\"% of customers\")\n",
    "print(\"number of customers with 3 or less orders is: \" + str(a.where(a<=3).count())+\n",
    "      \" about \" +str(round(a.where(a<=3).count()/2315*100,2) )+\"% of customers\")\n"
   ]
  },
  {
   "cell_type": "markdown",
   "metadata": {},
   "source": [
    "## Ver Cities"
   ]
  },
  {
   "cell_type": "markdown",
   "metadata": {},
   "source": [
    "## Ver Produtos"
   ]
  },
  {
   "cell_type": "code",
   "execution_count": null,
   "metadata": {},
   "outputs": [],
   "source": [
    "df1 Qty\tTotalAmount"
   ]
  },
  {
   "cell_type": "code",
   "execution_count": 276,
   "metadata": {},
   "outputs": [
    {
     "data": {
      "text/html": [
       "<div>\n",
       "<style scoped>\n",
       "    .dataframe tbody tr th:only-of-type {\n",
       "        vertical-align: middle;\n",
       "    }\n",
       "\n",
       "    .dataframe tbody tr th {\n",
       "        vertical-align: top;\n",
       "    }\n",
       "\n",
       "    .dataframe thead th {\n",
       "        text-align: right;\n",
       "    }\n",
       "</style>\n",
       "<table border=\"1\" class=\"dataframe\">\n",
       "  <thead>\n",
       "    <tr style=\"text-align: right;\">\n",
       "      <th></th>\n",
       "      <th>Qty</th>\n",
       "      <th>TotalAmount</th>\n",
       "    </tr>\n",
       "    <tr>\n",
       "      <th>ProductFamily</th>\n",
       "      <th></th>\n",
       "      <th></th>\n",
       "    </tr>\n",
       "  </thead>\n",
       "  <tbody>\n",
       "    <tr>\n",
       "      <td>BREADS IND</td>\n",
       "      <td>2047.0</td>\n",
       "      <td>7041.20</td>\n",
       "    </tr>\n",
       "    <tr>\n",
       "      <td>DESSERT</td>\n",
       "      <td>3041.0</td>\n",
       "      <td>411.30</td>\n",
       "    </tr>\n",
       "    <tr>\n",
       "      <td>DESSERT IND</td>\n",
       "      <td>84.0</td>\n",
       "      <td>424.90</td>\n",
       "    </tr>\n",
       "    <tr>\n",
       "      <td>DRINKS</td>\n",
       "      <td>13592.0</td>\n",
       "      <td>38553.70</td>\n",
       "    </tr>\n",
       "    <tr>\n",
       "      <td>EXTRAS</td>\n",
       "      <td>5129.0</td>\n",
       "      <td>5330.30</td>\n",
       "    </tr>\n",
       "    <tr>\n",
       "      <td>HOLDS</td>\n",
       "      <td>1237.0</td>\n",
       "      <td>0.00</td>\n",
       "    </tr>\n",
       "    <tr>\n",
       "      <td>JAP SUSHI</td>\n",
       "      <td>4183.0</td>\n",
       "      <td>35243.95</td>\n",
       "    </tr>\n",
       "    <tr>\n",
       "      <td>MAIN IND</td>\n",
       "      <td>3389.0</td>\n",
       "      <td>44327.60</td>\n",
       "    </tr>\n",
       "    <tr>\n",
       "      <td>MEAT</td>\n",
       "      <td>9226.0</td>\n",
       "      <td>114028.00</td>\n",
       "    </tr>\n",
       "    <tr>\n",
       "      <td>NEW SUSHI</td>\n",
       "      <td>286.0</td>\n",
       "      <td>2969.70</td>\n",
       "    </tr>\n",
       "    <tr>\n",
       "      <td>RED WINES</td>\n",
       "      <td>1418.0</td>\n",
       "      <td>15276.90</td>\n",
       "    </tr>\n",
       "    <tr>\n",
       "      <td>RICE</td>\n",
       "      <td>11928.0</td>\n",
       "      <td>80509.20</td>\n",
       "    </tr>\n",
       "    <tr>\n",
       "      <td>RICE IND</td>\n",
       "      <td>1621.0</td>\n",
       "      <td>10357.15</td>\n",
       "    </tr>\n",
       "    <tr>\n",
       "      <td>ROSE WINES</td>\n",
       "      <td>345.0</td>\n",
       "      <td>6609.20</td>\n",
       "    </tr>\n",
       "    <tr>\n",
       "      <td>SEAFOOD</td>\n",
       "      <td>889.0</td>\n",
       "      <td>13024.10</td>\n",
       "    </tr>\n",
       "    <tr>\n",
       "      <td>SIDE IND</td>\n",
       "      <td>167.0</td>\n",
       "      <td>749.50</td>\n",
       "    </tr>\n",
       "    <tr>\n",
       "      <td>SIZZLING</td>\n",
       "      <td>5269.0</td>\n",
       "      <td>76310.75</td>\n",
       "    </tr>\n",
       "    <tr>\n",
       "      <td>SOUPS</td>\n",
       "      <td>1456.0</td>\n",
       "      <td>27654.53</td>\n",
       "    </tr>\n",
       "    <tr>\n",
       "      <td>SPIRITS</td>\n",
       "      <td>2741.0</td>\n",
       "      <td>10347.60</td>\n",
       "    </tr>\n",
       "    <tr>\n",
       "      <td>START IND</td>\n",
       "      <td>2033.0</td>\n",
       "      <td>13969.65</td>\n",
       "    </tr>\n",
       "    <tr>\n",
       "      <td>STARTERS</td>\n",
       "      <td>24431.0</td>\n",
       "      <td>168530.45</td>\n",
       "    </tr>\n",
       "    <tr>\n",
       "      <td>SUSHI</td>\n",
       "      <td>5231.0</td>\n",
       "      <td>104360.00</td>\n",
       "    </tr>\n",
       "    <tr>\n",
       "      <td>TSANTES</td>\n",
       "      <td>1812.0</td>\n",
       "      <td>108.72</td>\n",
       "    </tr>\n",
       "    <tr>\n",
       "      <td>VEG</td>\n",
       "      <td>494.0</td>\n",
       "      <td>4425.95</td>\n",
       "    </tr>\n",
       "    <tr>\n",
       "      <td>VEG IND</td>\n",
       "      <td>929.0</td>\n",
       "      <td>6802.85</td>\n",
       "    </tr>\n",
       "    <tr>\n",
       "      <td>WHITE WINE</td>\n",
       "      <td>2708.0</td>\n",
       "      <td>39543.72</td>\n",
       "    </tr>\n",
       "    <tr>\n",
       "      <td>WITH</td>\n",
       "      <td>397.0</td>\n",
       "      <td>0.00</td>\n",
       "    </tr>\n",
       "  </tbody>\n",
       "</table>\n",
       "</div>"
      ],
      "text/plain": [
       "                   Qty  TotalAmount\n",
       "ProductFamily                      \n",
       "BREADS IND      2047.0      7041.20\n",
       "DESSERT         3041.0       411.30\n",
       "DESSERT IND       84.0       424.90\n",
       "DRINKS         13592.0     38553.70\n",
       "EXTRAS          5129.0      5330.30\n",
       "HOLDS           1237.0         0.00\n",
       "JAP SUSHI       4183.0     35243.95\n",
       "MAIN IND        3389.0     44327.60\n",
       "MEAT            9226.0    114028.00\n",
       "NEW SUSHI        286.0      2969.70\n",
       "RED WINES       1418.0     15276.90\n",
       "RICE           11928.0     80509.20\n",
       "RICE IND        1621.0     10357.15\n",
       "ROSE WINES       345.0      6609.20\n",
       "SEAFOOD          889.0     13024.10\n",
       "SIDE IND         167.0       749.50\n",
       "SIZZLING        5269.0     76310.75\n",
       "SOUPS           1456.0     27654.53\n",
       "SPIRITS         2741.0     10347.60\n",
       "START IND       2033.0     13969.65\n",
       "STARTERS       24431.0    168530.45\n",
       "SUSHI           5231.0    104360.00\n",
       "TSANTES         1812.0       108.72\n",
       "VEG              494.0      4425.95\n",
       "VEG IND          929.0      6802.85\n",
       "WHITE WINE      2708.0     39543.72\n",
       "WITH             397.0         0.00"
      ]
     },
     "execution_count": 276,
     "metadata": {},
     "output_type": "execute_result"
    }
   ],
   "source": [
    "#df1.groupby([\"ProductFamily\"])[\"Qty\"].sum()\n",
    "familydf=pd.concat([df1.groupby([\"ProductFamily\"])[\"Qty\"].sum(), df1.groupby([\"ProductFamily\"])[\"TotalAmount\"].sum()], axis=1, sort=False)\n",
    "#familydf.concat(familydf[])\n",
    "familydf"
   ]
  },
  {
   "cell_type": "code",
   "execution_count": 282,
   "metadata": {},
   "outputs": [
    {
     "ename": "SyntaxError",
     "evalue": "invalid syntax (<ipython-input-282-39e4bd04a645>, line 1)",
     "output_type": "error",
     "traceback": [
      "\u001b[1;36m  File \u001b[1;32m\"<ipython-input-282-39e4bd04a645>\"\u001b[1;36m, line \u001b[1;32m1\u001b[0m\n\u001b[1;33m    familydf=pd.concat([familydf[\"TotalAmount\",\"Qty\"],(familydf[\"TotalAmount\"]/familydf[\"Qty\"]]), axis=1, sort=False)\u001b[0m\n\u001b[1;37m                                                                                              ^\u001b[0m\n\u001b[1;31mSyntaxError\u001b[0m\u001b[1;31m:\u001b[0m invalid syntax\n"
     ]
    }
   ],
   "source": [
    "##Continuar\n",
    "\n",
    "familydf=pd.concat([familydf[\"TotalAmount\",\"Qty\"],(familydf[\"TotalAmount\"]/familydf[\"Qty\"]]), axis=1, sort=False)"
   ]
  },
  {
   "cell_type": "code",
   "execution_count": 266,
   "metadata": {},
   "outputs": [
    {
     "data": {
      "text/html": [
       "<div>\n",
       "<style scoped>\n",
       "    .dataframe tbody tr th:only-of-type {\n",
       "        vertical-align: middle;\n",
       "    }\n",
       "\n",
       "    .dataframe tbody tr th {\n",
       "        vertical-align: top;\n",
       "    }\n",
       "\n",
       "    .dataframe thead th {\n",
       "        text-align: right;\n",
       "    }\n",
       "</style>\n",
       "<table border=\"1\" class=\"dataframe\">\n",
       "  <thead>\n",
       "    <tr style=\"text-align: right;\">\n",
       "      <th></th>\n",
       "      <th>DocNumber</th>\n",
       "      <th>ProductDesignation</th>\n",
       "      <th>ProductFamily</th>\n",
       "      <th>Qty</th>\n",
       "      <th>TotalAmount</th>\n",
       "      <th>InvoiceDateHour</th>\n",
       "      <th>EmployeeID</th>\n",
       "      <th>IsDelivery</th>\n",
       "      <th>Pax</th>\n",
       "      <th>CustomerID</th>\n",
       "      <th>CustomerCity</th>\n",
       "      <th>CustomerSince</th>\n",
       "    </tr>\n",
       "  </thead>\n",
       "  <tbody>\n",
       "    <tr>\n",
       "      <td>66536</td>\n",
       "      <td>110044742018</td>\n",
       "      <td>COKE</td>\n",
       "      <td>DRINKS</td>\n",
       "      <td>1.0</td>\n",
       "      <td>3.0</td>\n",
       "      <td>2018-10-28 14:58:25.000</td>\n",
       "      <td>2</td>\n",
       "      <td>0</td>\n",
       "      <td>11</td>\n",
       "      <td>0</td>\n",
       "      <td>NaN</td>\n",
       "      <td>NaN</td>\n",
       "    </tr>\n",
       "    <tr>\n",
       "      <td>66541</td>\n",
       "      <td>110044742018</td>\n",
       "      <td>COKE</td>\n",
       "      <td>DRINKS</td>\n",
       "      <td>1.0</td>\n",
       "      <td>3.0</td>\n",
       "      <td>2018-10-28 14:58:25.000</td>\n",
       "      <td>2</td>\n",
       "      <td>0</td>\n",
       "      <td>11</td>\n",
       "      <td>0</td>\n",
       "      <td>NaN</td>\n",
       "      <td>NaN</td>\n",
       "    </tr>\n",
       "    <tr>\n",
       "      <td>66544</td>\n",
       "      <td>110044742018</td>\n",
       "      <td>COKE</td>\n",
       "      <td>DRINKS</td>\n",
       "      <td>1.0</td>\n",
       "      <td>3.0</td>\n",
       "      <td>2018-10-28 14:58:25.000</td>\n",
       "      <td>2</td>\n",
       "      <td>0</td>\n",
       "      <td>11</td>\n",
       "      <td>0</td>\n",
       "      <td>NaN</td>\n",
       "      <td>NaN</td>\n",
       "    </tr>\n",
       "    <tr>\n",
       "      <td>66545</td>\n",
       "      <td>110044742018</td>\n",
       "      <td>COKE</td>\n",
       "      <td>DRINKS</td>\n",
       "      <td>1.0</td>\n",
       "      <td>3.0</td>\n",
       "      <td>2018-10-28 14:58:25.000</td>\n",
       "      <td>2</td>\n",
       "      <td>0</td>\n",
       "      <td>11</td>\n",
       "      <td>0</td>\n",
       "      <td>NaN</td>\n",
       "      <td>NaN</td>\n",
       "    </tr>\n",
       "  </tbody>\n",
       "</table>\n",
       "</div>"
      ],
      "text/plain": [
       "          DocNumber ProductDesignation ProductFamily  Qty  TotalAmount  \\\n",
       "66536  110044742018               COKE        DRINKS  1.0          3.0   \n",
       "66541  110044742018               COKE        DRINKS  1.0          3.0   \n",
       "66544  110044742018               COKE        DRINKS  1.0          3.0   \n",
       "66545  110044742018               COKE        DRINKS  1.0          3.0   \n",
       "\n",
       "               InvoiceDateHour  EmployeeID  IsDelivery  Pax  CustomerID  \\\n",
       "66536  2018-10-28 14:58:25.000           2           0   11           0   \n",
       "66541  2018-10-28 14:58:25.000           2           0   11           0   \n",
       "66544  2018-10-28 14:58:25.000           2           0   11           0   \n",
       "66545  2018-10-28 14:58:25.000           2           0   11           0   \n",
       "\n",
       "      CustomerCity CustomerSince  \n",
       "66536          NaN           NaN  \n",
       "66541          NaN           NaN  \n",
       "66544          NaN           NaN  \n",
       "66545          NaN           NaN  "
      ]
     },
     "execution_count": 266,
     "metadata": {},
     "output_type": "execute_result"
    }
   ],
   "source": [
    "    df1[(df1.DocNumber==110044742018) & (df1.ProductDesignation=='COKE')]"
   ]
  },
  {
   "cell_type": "code",
   "execution_count": 14,
   "metadata": {},
   "outputs": [],
   "source": [
    "# pedidos de delivery - 31 248\n",
    "df_IsDelivery = df1[df1.IsDelivery==1]\n",
    "\n",
    "# pedidos de dine inn - 52 861\n",
    "df_DineInn = df1[df1.IsDelivery==0]"
   ]
  },
  {
   "cell_type": "code",
   "execution_count": 15,
   "metadata": {},
   "outputs": [
    {
     "data": {
      "text/plain": [
       "DocNumber                0\n",
       "ProductDesignation       0\n",
       "ProductFamily            0\n",
       "Qty                      0\n",
       "TotalAmount              0\n",
       "InvoiceDateHour          0\n",
       "EmployeeID               0\n",
       "IsDelivery               0\n",
       "Pax                      0\n",
       "CustomerID               0\n",
       "CustomerCity             0\n",
       "CustomerSince         2106\n",
       "dtype: int64"
      ]
     },
     "execution_count": 15,
     "metadata": {},
     "output_type": "execute_result"
    }
   ],
   "source": [
    "# delivery só tem nulls no customer since e são 2106\n",
    "df_IsDelivery.isnull().sum()"
   ]
  },
  {
   "cell_type": "code",
   "execution_count": 16,
   "metadata": {},
   "outputs": [
    {
     "data": {
      "text/plain": [
       "1    31248\n",
       "Name: Pax, dtype: int64"
      ]
     },
     "execution_count": 16,
     "metadata": {},
     "output_type": "execute_result"
    }
   ],
   "source": [
    "# quando é delivery é sempre 1 pessoa \"à mesa\"\n",
    "df_IsDelivery.Pax.value_counts()"
   ]
  },
  {
   "cell_type": "code",
   "execution_count": 17,
   "metadata": {},
   "outputs": [
    {
     "data": {
      "text/plain": [
       "DocNumber                 0\n",
       "ProductDesignation        0\n",
       "ProductFamily             0\n",
       "Qty                       0\n",
       "TotalAmount               0\n",
       "InvoiceDateHour           0\n",
       "EmployeeID                0\n",
       "IsDelivery                0\n",
       "Pax                       0\n",
       "CustomerID                0\n",
       "CustomerCity          52861\n",
       "CustomerSince         52861\n",
       "dtype: int64"
      ]
     },
     "execution_count": 17,
     "metadata": {},
     "output_type": "execute_result"
    }
   ],
   "source": [
    "# os DINE INN não têm customer city nem customer since (são null), nem customer id (é sempre 0)\n",
    "df_DineInn.isnull().sum()"
   ]
  },
  {
   "cell_type": "code",
   "execution_count": 18,
   "metadata": {},
   "outputs": [
    {
     "data": {
      "text/plain": [
       "0    52861\n",
       "Name: CustomerID, dtype: int64"
      ]
     },
     "execution_count": 18,
     "metadata": {},
     "output_type": "execute_result"
    }
   ],
   "source": [
    "df_DineInn.CustomerID.value_counts()"
   ]
  },
  {
   "cell_type": "code",
   "execution_count": 22,
   "metadata": {},
   "outputs": [],
   "source": [
    "Products = list(df1.ProductDesignation.unique())"
   ]
  },
  {
   "cell_type": "code",
   "execution_count": 23,
   "metadata": {},
   "outputs": [
    {
     "data": {
      "text/plain": [
       "['NO MEAT',\n",
       " 'NO MUSHROOMS',\n",
       " 'NO ONION',\n",
       " 'NO EGG',\n",
       " 'NO SAUCE',\n",
       " 'NO BEANSPROUTS',\n",
       " 'NO CHILLY',\n",
       " 'NO PRAWNS',\n",
       " 'NO PORK',\n",
       " 'NO BABY CORN']"
      ]
     },
     "execution_count": 23,
     "metadata": {},
     "output_type": "execute_result"
    }
   ],
   "source": [
    "SpRequestsNO = []\n",
    "for product in Products:\n",
    "    if ' NO ' in product:\n",
    "        product_n = product.strip()\n",
    "        SpRequestsNO.append(product_n)\n",
    "        \n",
    "SpRequestsNO"
   ]
  },
  {
   "cell_type": "code",
   "execution_count": 24,
   "metadata": {},
   "outputs": [
    {
     "data": {
      "text/plain": [
       "['EXTRA SAUCE', 'EXTRA PANCAKES', 'EXTRA SALAD']"
      ]
     },
     "execution_count": 24,
     "metadata": {},
     "output_type": "execute_result"
    }
   ],
   "source": [
    "SpRequestsEXTRA = []\n",
    "for product in Products:\n",
    "    if ' EXTRA ' in product:\n",
    "        product_n = product.strip()\n",
    "        SpRequestsEXTRA.append(product_n)\n",
    "        \n",
    "SpRequestsEXTRA"
   ]
  },
  {
   "cell_type": "code",
   "execution_count": 27,
   "metadata": {},
   "outputs": [
    {
     "data": {
      "text/html": [
       "<div>\n",
       "<style scoped>\n",
       "    .dataframe tbody tr th:only-of-type {\n",
       "        vertical-align: middle;\n",
       "    }\n",
       "\n",
       "    .dataframe tbody tr th {\n",
       "        vertical-align: top;\n",
       "    }\n",
       "\n",
       "    .dataframe thead th {\n",
       "        text-align: right;\n",
       "    }\n",
       "</style>\n",
       "<table border=\"1\" class=\"dataframe\">\n",
       "  <thead>\n",
       "    <tr style=\"text-align: right;\">\n",
       "      <th></th>\n",
       "      <th>DocNumber</th>\n",
       "      <th>ProductDesignation</th>\n",
       "      <th>ProductFamily</th>\n",
       "      <th>Qty</th>\n",
       "      <th>TotalAmount</th>\n",
       "      <th>InvoiceDateHour</th>\n",
       "      <th>EmployeeID</th>\n",
       "      <th>IsDelivery</th>\n",
       "      <th>Pax</th>\n",
       "      <th>CustomerID</th>\n",
       "      <th>CustomerCity</th>\n",
       "      <th>CustomerSince</th>\n",
       "    </tr>\n",
       "  </thead>\n",
       "  <tbody>\n",
       "    <tr>\n",
       "      <td>count</td>\n",
       "      <td>3.124800e+04</td>\n",
       "      <td>31248</td>\n",
       "      <td>31248</td>\n",
       "      <td>31248.000000</td>\n",
       "      <td>31248</td>\n",
       "      <td>31248</td>\n",
       "      <td>31248.000000</td>\n",
       "      <td>31248.0</td>\n",
       "      <td>31248.0</td>\n",
       "      <td>31248.000000</td>\n",
       "      <td>31248</td>\n",
       "      <td>29142</td>\n",
       "    </tr>\n",
       "    <tr>\n",
       "      <td>unique</td>\n",
       "      <td>NaN</td>\n",
       "      <td>146</td>\n",
       "      <td>21</td>\n",
       "      <td>NaN</td>\n",
       "      <td>148</td>\n",
       "      <td>4866</td>\n",
       "      <td>NaN</td>\n",
       "      <td>NaN</td>\n",
       "      <td>NaN</td>\n",
       "      <td>NaN</td>\n",
       "      <td>17</td>\n",
       "      <td>2109</td>\n",
       "    </tr>\n",
       "    <tr>\n",
       "      <td>top</td>\n",
       "      <td>NaN</td>\n",
       "      <td>DELIVERY CHARGE</td>\n",
       "      <td>STARTERS</td>\n",
       "      <td>NaN</td>\n",
       "      <td>10,10</td>\n",
       "      <td>2018-04-14 20:23:46.000</td>\n",
       "      <td>NaN</td>\n",
       "      <td>NaN</td>\n",
       "      <td>NaN</td>\n",
       "      <td>NaN</td>\n",
       "      <td>EGKOMI</td>\n",
       "      <td>2005-12-06 15:00:00.000</td>\n",
       "    </tr>\n",
       "    <tr>\n",
       "      <td>freq</td>\n",
       "      <td>NaN</td>\n",
       "      <td>3892</td>\n",
       "      <td>6803</td>\n",
       "      <td>NaN</td>\n",
       "      <td>2955</td>\n",
       "      <td>26</td>\n",
       "      <td>NaN</td>\n",
       "      <td>NaN</td>\n",
       "      <td>NaN</td>\n",
       "      <td>NaN</td>\n",
       "      <td>9423</td>\n",
       "      <td>1164</td>\n",
       "    </tr>\n",
       "    <tr>\n",
       "      <td>mean</td>\n",
       "      <td>3.191614e+11</td>\n",
       "      <td>NaN</td>\n",
       "      <td>NaN</td>\n",
       "      <td>1.167307</td>\n",
       "      <td>NaN</td>\n",
       "      <td>NaN</td>\n",
       "      <td>3.725358</td>\n",
       "      <td>1.0</td>\n",
       "      <td>1.0</td>\n",
       "      <td>34003.921147</td>\n",
       "      <td>NaN</td>\n",
       "      <td>NaN</td>\n",
       "    </tr>\n",
       "    <tr>\n",
       "      <td>std</td>\n",
       "      <td>2.809416e+09</td>\n",
       "      <td>NaN</td>\n",
       "      <td>NaN</td>\n",
       "      <td>0.728986</td>\n",
       "      <td>NaN</td>\n",
       "      <td>NaN</td>\n",
       "      <td>3.827634</td>\n",
       "      <td>0.0</td>\n",
       "      <td>0.0</td>\n",
       "      <td>23883.130466</td>\n",
       "      <td>NaN</td>\n",
       "      <td>NaN</td>\n",
       "    </tr>\n",
       "    <tr>\n",
       "      <td>min</td>\n",
       "      <td>3.100000e+11</td>\n",
       "      <td>NaN</td>\n",
       "      <td>NaN</td>\n",
       "      <td>1.000000</td>\n",
       "      <td>NaN</td>\n",
       "      <td>NaN</td>\n",
       "      <td>2.000000</td>\n",
       "      <td>1.0</td>\n",
       "      <td>1.0</td>\n",
       "      <td>6.000000</td>\n",
       "      <td>NaN</td>\n",
       "      <td>NaN</td>\n",
       "    </tr>\n",
       "    <tr>\n",
       "      <td>25%</td>\n",
       "      <td>3.200085e+11</td>\n",
       "      <td>NaN</td>\n",
       "      <td>NaN</td>\n",
       "      <td>1.000000</td>\n",
       "      <td>NaN</td>\n",
       "      <td>NaN</td>\n",
       "      <td>2.000000</td>\n",
       "      <td>1.0</td>\n",
       "      <td>1.0</td>\n",
       "      <td>8948.000000</td>\n",
       "      <td>NaN</td>\n",
       "      <td>NaN</td>\n",
       "    </tr>\n",
       "    <tr>\n",
       "      <td>50%</td>\n",
       "      <td>3.200214e+11</td>\n",
       "      <td>NaN</td>\n",
       "      <td>NaN</td>\n",
       "      <td>1.000000</td>\n",
       "      <td>NaN</td>\n",
       "      <td>NaN</td>\n",
       "      <td>2.000000</td>\n",
       "      <td>1.0</td>\n",
       "      <td>1.0</td>\n",
       "      <td>38764.000000</td>\n",
       "      <td>NaN</td>\n",
       "      <td>NaN</td>\n",
       "    </tr>\n",
       "    <tr>\n",
       "      <td>75%</td>\n",
       "      <td>3.200334e+11</td>\n",
       "      <td>NaN</td>\n",
       "      <td>NaN</td>\n",
       "      <td>1.000000</td>\n",
       "      <td>NaN</td>\n",
       "      <td>NaN</td>\n",
       "      <td>5.000000</td>\n",
       "      <td>1.0</td>\n",
       "      <td>1.0</td>\n",
       "      <td>56303.000000</td>\n",
       "      <td>NaN</td>\n",
       "      <td>NaN</td>\n",
       "    </tr>\n",
       "    <tr>\n",
       "      <td>max</td>\n",
       "      <td>3.200445e+11</td>\n",
       "      <td>NaN</td>\n",
       "      <td>NaN</td>\n",
       "      <td>23.000000</td>\n",
       "      <td>NaN</td>\n",
       "      <td>NaN</td>\n",
       "      <td>27.000000</td>\n",
       "      <td>1.0</td>\n",
       "      <td>1.0</td>\n",
       "      <td>69101.000000</td>\n",
       "      <td>NaN</td>\n",
       "      <td>NaN</td>\n",
       "    </tr>\n",
       "  </tbody>\n",
       "</table>\n",
       "</div>"
      ],
      "text/plain": [
       "           DocNumber ProductDesignation ProductFamily           Qty  \\\n",
       "count   3.124800e+04              31248         31248  31248.000000   \n",
       "unique           NaN                146            21           NaN   \n",
       "top              NaN    DELIVERY CHARGE      STARTERS           NaN   \n",
       "freq             NaN               3892          6803           NaN   \n",
       "mean    3.191614e+11                NaN           NaN      1.167307   \n",
       "std     2.809416e+09                NaN           NaN      0.728986   \n",
       "min     3.100000e+11                NaN           NaN      1.000000   \n",
       "25%     3.200085e+11                NaN           NaN      1.000000   \n",
       "50%     3.200214e+11                NaN           NaN      1.000000   \n",
       "75%     3.200334e+11                NaN           NaN      1.000000   \n",
       "max     3.200445e+11                NaN           NaN     23.000000   \n",
       "\n",
       "       TotalAmount          InvoiceDateHour    EmployeeID  IsDelivery  \\\n",
       "count        31248                    31248  31248.000000     31248.0   \n",
       "unique         148                     4866           NaN         NaN   \n",
       "top          10,10  2018-04-14 20:23:46.000           NaN         NaN   \n",
       "freq          2955                       26           NaN         NaN   \n",
       "mean           NaN                      NaN      3.725358         1.0   \n",
       "std            NaN                      NaN      3.827634         0.0   \n",
       "min            NaN                      NaN      2.000000         1.0   \n",
       "25%            NaN                      NaN      2.000000         1.0   \n",
       "50%            NaN                      NaN      2.000000         1.0   \n",
       "75%            NaN                      NaN      5.000000         1.0   \n",
       "max            NaN                      NaN     27.000000         1.0   \n",
       "\n",
       "            Pax    CustomerID CustomerCity            CustomerSince  \n",
       "count   31248.0  31248.000000        31248                    29142  \n",
       "unique      NaN           NaN           17                     2109  \n",
       "top         NaN           NaN       EGKOMI  2005-12-06 15:00:00.000  \n",
       "freq        NaN           NaN         9423                     1164  \n",
       "mean        1.0  34003.921147          NaN                      NaN  \n",
       "std         0.0  23883.130466          NaN                      NaN  \n",
       "min         1.0      6.000000          NaN                      NaN  \n",
       "25%         1.0   8948.000000          NaN                      NaN  \n",
       "50%         1.0  38764.000000          NaN                      NaN  \n",
       "75%         1.0  56303.000000          NaN                      NaN  \n",
       "max         1.0  69101.000000          NaN                      NaN  "
      ]
     },
     "execution_count": 27,
     "metadata": {},
     "output_type": "execute_result"
    }
   ],
   "source": [
    "df_IsDelivery.describe(include='all')\n",
    "# há uma delivery charge no product designation"
   ]
  },
  {
   "cell_type": "code",
   "execution_count": 28,
   "metadata": {},
   "outputs": [
    {
     "data": {
      "text/html": [
       "<div>\n",
       "<style scoped>\n",
       "    .dataframe tbody tr th:only-of-type {\n",
       "        vertical-align: middle;\n",
       "    }\n",
       "\n",
       "    .dataframe tbody tr th {\n",
       "        vertical-align: top;\n",
       "    }\n",
       "\n",
       "    .dataframe thead th {\n",
       "        text-align: right;\n",
       "    }\n",
       "</style>\n",
       "<table border=\"1\" class=\"dataframe\">\n",
       "  <thead>\n",
       "    <tr style=\"text-align: right;\">\n",
       "      <th></th>\n",
       "      <th>DocNumber</th>\n",
       "      <th>ProductDesignation</th>\n",
       "      <th>ProductFamily</th>\n",
       "      <th>Qty</th>\n",
       "      <th>TotalAmount</th>\n",
       "      <th>InvoiceDateHour</th>\n",
       "      <th>EmployeeID</th>\n",
       "      <th>IsDelivery</th>\n",
       "      <th>Pax</th>\n",
       "      <th>CustomerID</th>\n",
       "      <th>CustomerCity</th>\n",
       "      <th>CustomerSince</th>\n",
       "    </tr>\n",
       "  </thead>\n",
       "  <tbody>\n",
       "    <tr>\n",
       "      <td>count</td>\n",
       "      <td>5.286100e+04</td>\n",
       "      <td>52861</td>\n",
       "      <td>52861</td>\n",
       "      <td>52861.000000</td>\n",
       "      <td>52861</td>\n",
       "      <td>52861</td>\n",
       "      <td>52861.000000</td>\n",
       "      <td>52861.0</td>\n",
       "      <td>52861.000000</td>\n",
       "      <td>52861.0</td>\n",
       "      <td>0</td>\n",
       "      <td>0</td>\n",
       "    </tr>\n",
       "    <tr>\n",
       "      <td>unique</td>\n",
       "      <td>NaN</td>\n",
       "      <td>244</td>\n",
       "      <td>26</td>\n",
       "      <td>NaN</td>\n",
       "      <td>319</td>\n",
       "      <td>6281</td>\n",
       "      <td>NaN</td>\n",
       "      <td>NaN</td>\n",
       "      <td>NaN</td>\n",
       "      <td>NaN</td>\n",
       "      <td>0</td>\n",
       "      <td>0</td>\n",
       "    </tr>\n",
       "    <tr>\n",
       "      <td>top</td>\n",
       "      <td>NaN</td>\n",
       "      <td>MINERAL WATER 1.5LT</td>\n",
       "      <td>DRINKS</td>\n",
       "      <td>NaN</td>\n",
       "      <td>3,00</td>\n",
       "      <td>2018-10-28 14:58:25.000</td>\n",
       "      <td>NaN</td>\n",
       "      <td>NaN</td>\n",
       "      <td>NaN</td>\n",
       "      <td>NaN</td>\n",
       "      <td>NaN</td>\n",
       "      <td>NaN</td>\n",
       "    </tr>\n",
       "    <tr>\n",
       "      <td>freq</td>\n",
       "      <td>NaN</td>\n",
       "      <td>7052</td>\n",
       "      <td>11337</td>\n",
       "      <td>NaN</td>\n",
       "      <td>9727</td>\n",
       "      <td>46</td>\n",
       "      <td>NaN</td>\n",
       "      <td>NaN</td>\n",
       "      <td>NaN</td>\n",
       "      <td>NaN</td>\n",
       "      <td>NaN</td>\n",
       "      <td>NaN</td>\n",
       "    </tr>\n",
       "    <tr>\n",
       "      <td>mean</td>\n",
       "      <td>1.112222e+11</td>\n",
       "      <td>NaN</td>\n",
       "      <td>NaN</td>\n",
       "      <td>1.316793</td>\n",
       "      <td>NaN</td>\n",
       "      <td>NaN</td>\n",
       "      <td>3.511928</td>\n",
       "      <td>0.0</td>\n",
       "      <td>4.660884</td>\n",
       "      <td>0.0</td>\n",
       "      <td>NaN</td>\n",
       "      <td>NaN</td>\n",
       "    </tr>\n",
       "    <tr>\n",
       "      <td>std</td>\n",
       "      <td>3.239736e+09</td>\n",
       "      <td>NaN</td>\n",
       "      <td>NaN</td>\n",
       "      <td>1.017544</td>\n",
       "      <td>NaN</td>\n",
       "      <td>NaN</td>\n",
       "      <td>3.590845</td>\n",
       "      <td>0.0</td>\n",
       "      <td>4.090300</td>\n",
       "      <td>0.0</td>\n",
       "      <td>NaN</td>\n",
       "      <td>NaN</td>\n",
       "    </tr>\n",
       "    <tr>\n",
       "      <td>min</td>\n",
       "      <td>1.100000e+11</td>\n",
       "      <td>NaN</td>\n",
       "      <td>NaN</td>\n",
       "      <td>1.000000</td>\n",
       "      <td>NaN</td>\n",
       "      <td>NaN</td>\n",
       "      <td>2.000000</td>\n",
       "      <td>0.0</td>\n",
       "      <td>0.000000</td>\n",
       "      <td>0.0</td>\n",
       "      <td>NaN</td>\n",
       "      <td>NaN</td>\n",
       "    </tr>\n",
       "    <tr>\n",
       "      <td>25%</td>\n",
       "      <td>1.100149e+11</td>\n",
       "      <td>NaN</td>\n",
       "      <td>NaN</td>\n",
       "      <td>1.000000</td>\n",
       "      <td>NaN</td>\n",
       "      <td>NaN</td>\n",
       "      <td>2.000000</td>\n",
       "      <td>0.0</td>\n",
       "      <td>2.000000</td>\n",
       "      <td>0.0</td>\n",
       "      <td>NaN</td>\n",
       "      <td>NaN</td>\n",
       "    </tr>\n",
       "    <tr>\n",
       "      <td>50%</td>\n",
       "      <td>1.100308e+11</td>\n",
       "      <td>NaN</td>\n",
       "      <td>NaN</td>\n",
       "      <td>1.000000</td>\n",
       "      <td>NaN</td>\n",
       "      <td>NaN</td>\n",
       "      <td>2.000000</td>\n",
       "      <td>0.0</td>\n",
       "      <td>4.000000</td>\n",
       "      <td>0.0</td>\n",
       "      <td>NaN</td>\n",
       "      <td>NaN</td>\n",
       "    </tr>\n",
       "    <tr>\n",
       "      <td>75%</td>\n",
       "      <td>1.100469e+11</td>\n",
       "      <td>NaN</td>\n",
       "      <td>NaN</td>\n",
       "      <td>1.000000</td>\n",
       "      <td>NaN</td>\n",
       "      <td>NaN</td>\n",
       "      <td>5.000000</td>\n",
       "      <td>0.0</td>\n",
       "      <td>6.000000</td>\n",
       "      <td>0.0</td>\n",
       "      <td>NaN</td>\n",
       "      <td>NaN</td>\n",
       "    </tr>\n",
       "    <tr>\n",
       "      <td>max</td>\n",
       "      <td>1.200082e+11</td>\n",
       "      <td>NaN</td>\n",
       "      <td>NaN</td>\n",
       "      <td>53.000000</td>\n",
       "      <td>NaN</td>\n",
       "      <td>NaN</td>\n",
       "      <td>27.000000</td>\n",
       "      <td>0.0</td>\n",
       "      <td>200.000000</td>\n",
       "      <td>0.0</td>\n",
       "      <td>NaN</td>\n",
       "      <td>NaN</td>\n",
       "    </tr>\n",
       "  </tbody>\n",
       "</table>\n",
       "</div>"
      ],
      "text/plain": [
       "           DocNumber   ProductDesignation ProductFamily           Qty  \\\n",
       "count   5.286100e+04                52861         52861  52861.000000   \n",
       "unique           NaN                  244            26           NaN   \n",
       "top              NaN  MINERAL WATER 1.5LT        DRINKS           NaN   \n",
       "freq             NaN                 7052         11337           NaN   \n",
       "mean    1.112222e+11                  NaN           NaN      1.316793   \n",
       "std     3.239736e+09                  NaN           NaN      1.017544   \n",
       "min     1.100000e+11                  NaN           NaN      1.000000   \n",
       "25%     1.100149e+11                  NaN           NaN      1.000000   \n",
       "50%     1.100308e+11                  NaN           NaN      1.000000   \n",
       "75%     1.100469e+11                  NaN           NaN      1.000000   \n",
       "max     1.200082e+11                  NaN           NaN     53.000000   \n",
       "\n",
       "       TotalAmount          InvoiceDateHour    EmployeeID  IsDelivery  \\\n",
       "count        52861                    52861  52861.000000     52861.0   \n",
       "unique         319                     6281           NaN         NaN   \n",
       "top           3,00  2018-10-28 14:58:25.000           NaN         NaN   \n",
       "freq          9727                       46           NaN         NaN   \n",
       "mean           NaN                      NaN      3.511928         0.0   \n",
       "std            NaN                      NaN      3.590845         0.0   \n",
       "min            NaN                      NaN      2.000000         0.0   \n",
       "25%            NaN                      NaN      2.000000         0.0   \n",
       "50%            NaN                      NaN      2.000000         0.0   \n",
       "75%            NaN                      NaN      5.000000         0.0   \n",
       "max            NaN                      NaN     27.000000         0.0   \n",
       "\n",
       "                 Pax  CustomerID CustomerCity CustomerSince  \n",
       "count   52861.000000     52861.0            0             0  \n",
       "unique           NaN         NaN            0             0  \n",
       "top              NaN         NaN          NaN           NaN  \n",
       "freq             NaN         NaN          NaN           NaN  \n",
       "mean        4.660884         0.0          NaN           NaN  \n",
       "std         4.090300         0.0          NaN           NaN  \n",
       "min         0.000000         0.0          NaN           NaN  \n",
       "25%         2.000000         0.0          NaN           NaN  \n",
       "50%         4.000000         0.0          NaN           NaN  \n",
       "75%         6.000000         0.0          NaN           NaN  \n",
       "max       200.000000         0.0          NaN           NaN  "
      ]
     },
     "execution_count": 28,
     "metadata": {},
     "output_type": "execute_result"
    }
   ],
   "source": [
    "df_DineInn.describe(include='all')"
   ]
  },
  {
   "cell_type": "code",
   "execution_count": 29,
   "metadata": {},
   "outputs": [
    {
     "data": {
      "text/html": [
       "<div>\n",
       "<style scoped>\n",
       "    .dataframe tbody tr th:only-of-type {\n",
       "        vertical-align: middle;\n",
       "    }\n",
       "\n",
       "    .dataframe tbody tr th {\n",
       "        vertical-align: top;\n",
       "    }\n",
       "\n",
       "    .dataframe thead th {\n",
       "        text-align: right;\n",
       "    }\n",
       "</style>\n",
       "<table border=\"1\" class=\"dataframe\">\n",
       "  <thead>\n",
       "    <tr style=\"text-align: right;\">\n",
       "      <th></th>\n",
       "      <th>DocNumber</th>\n",
       "      <th>ProductDesignation</th>\n",
       "      <th>ProductFamily</th>\n",
       "      <th>Qty</th>\n",
       "      <th>TotalAmount</th>\n",
       "      <th>InvoiceDateHour</th>\n",
       "      <th>EmployeeID</th>\n",
       "      <th>IsDelivery</th>\n",
       "      <th>Pax</th>\n",
       "      <th>CustomerID</th>\n",
       "      <th>CustomerCity</th>\n",
       "      <th>CustomerSince</th>\n",
       "    </tr>\n",
       "  </thead>\n",
       "  <tbody>\n",
       "    <tr>\n",
       "      <td>54</td>\n",
       "      <td>320000012018</td>\n",
       "      <td>DELIVERY CHARGE</td>\n",
       "      <td>EXTRAS</td>\n",
       "      <td>1.0</td>\n",
       "      <td>1,00</td>\n",
       "      <td>2018-01-01 19:12:12.000</td>\n",
       "      <td>2</td>\n",
       "      <td>1</td>\n",
       "      <td>1</td>\n",
       "      <td>53908</td>\n",
       "      <td>LEYKOSIA</td>\n",
       "      <td>NaN</td>\n",
       "    </tr>\n",
       "    <tr>\n",
       "      <td>62</td>\n",
       "      <td>320000022018</td>\n",
       "      <td>DELIVERY CHARGE</td>\n",
       "      <td>EXTRAS</td>\n",
       "      <td>1.0</td>\n",
       "      <td>1,00</td>\n",
       "      <td>2018-01-01 19:12:28.000</td>\n",
       "      <td>2</td>\n",
       "      <td>1</td>\n",
       "      <td>1</td>\n",
       "      <td>1072</td>\n",
       "      <td>LEYKOSIA</td>\n",
       "      <td>2016-03-10 20:52:43.220</td>\n",
       "    </tr>\n",
       "    <tr>\n",
       "      <td>69</td>\n",
       "      <td>320000032018</td>\n",
       "      <td>DELIVERY CHARGE</td>\n",
       "      <td>EXTRAS</td>\n",
       "      <td>1.0</td>\n",
       "      <td>1,70</td>\n",
       "      <td>2018-01-01 20:13:42.000</td>\n",
       "      <td>2</td>\n",
       "      <td>1</td>\n",
       "      <td>1</td>\n",
       "      <td>45483</td>\n",
       "      <td>LAKATAMEIA</td>\n",
       "      <td>2018-01-01 19:56:39.830</td>\n",
       "    </tr>\n",
       "    <tr>\n",
       "      <td>73</td>\n",
       "      <td>320000042018</td>\n",
       "      <td>DELIVERY CHARGE</td>\n",
       "      <td>EXTRAS</td>\n",
       "      <td>1.0</td>\n",
       "      <td>1,00</td>\n",
       "      <td>2018-01-01 20:13:54.000</td>\n",
       "      <td>2</td>\n",
       "      <td>1</td>\n",
       "      <td>1</td>\n",
       "      <td>45485</td>\n",
       "      <td>STROBOLOS</td>\n",
       "      <td>2018-01-01 20:02:27.267</td>\n",
       "    </tr>\n",
       "    <tr>\n",
       "      <td>82</td>\n",
       "      <td>320000052018</td>\n",
       "      <td>DELIVERY CHARGE</td>\n",
       "      <td>EXTRAS</td>\n",
       "      <td>1.0</td>\n",
       "      <td>1,70</td>\n",
       "      <td>2018-01-01 20:14:07.000</td>\n",
       "      <td>2</td>\n",
       "      <td>1</td>\n",
       "      <td>1</td>\n",
       "      <td>45351</td>\n",
       "      <td>LAKATAMEIA</td>\n",
       "      <td>2017-12-02 20:06:33.597</td>\n",
       "    </tr>\n",
       "    <tr>\n",
       "      <td>...</td>\n",
       "      <td>...</td>\n",
       "      <td>...</td>\n",
       "      <td>...</td>\n",
       "      <td>...</td>\n",
       "      <td>...</td>\n",
       "      <td>...</td>\n",
       "      <td>...</td>\n",
       "      <td>...</td>\n",
       "      <td>...</td>\n",
       "      <td>...</td>\n",
       "      <td>...</td>\n",
       "      <td>...</td>\n",
       "    </tr>\n",
       "    <tr>\n",
       "      <td>84083</td>\n",
       "      <td>320044482018</td>\n",
       "      <td>DELIVERY CHARGE</td>\n",
       "      <td>EXTRAS</td>\n",
       "      <td>1.0</td>\n",
       "      <td>1,70</td>\n",
       "      <td>2018-12-31 21:13:39.000</td>\n",
       "      <td>2</td>\n",
       "      <td>1</td>\n",
       "      <td>1</td>\n",
       "      <td>31522</td>\n",
       "      <td>LEYKOSIA</td>\n",
       "      <td>2018-12-31 21:12:53.553</td>\n",
       "    </tr>\n",
       "    <tr>\n",
       "      <td>84093</td>\n",
       "      <td>320044502018</td>\n",
       "      <td>DELIVERY CHARGE</td>\n",
       "      <td>EXTRAS</td>\n",
       "      <td>1.0</td>\n",
       "      <td>1,70</td>\n",
       "      <td>2018-12-31 21:23:34.000</td>\n",
       "      <td>2</td>\n",
       "      <td>1</td>\n",
       "      <td>1</td>\n",
       "      <td>33294</td>\n",
       "      <td>EGKOMI</td>\n",
       "      <td>2018-12-31 21:22:58.913</td>\n",
       "    </tr>\n",
       "    <tr>\n",
       "      <td>84098</td>\n",
       "      <td>320044512018</td>\n",
       "      <td>DELIVERY CHARGE</td>\n",
       "      <td>EXTRAS</td>\n",
       "      <td>1.0</td>\n",
       "      <td>1,70</td>\n",
       "      <td>2018-12-31 21:54:08.000</td>\n",
       "      <td>2</td>\n",
       "      <td>1</td>\n",
       "      <td>1</td>\n",
       "      <td>34206</td>\n",
       "      <td>STROBOLOS</td>\n",
       "      <td>2018-12-31 21:53:32.487</td>\n",
       "    </tr>\n",
       "    <tr>\n",
       "      <td>84104</td>\n",
       "      <td>320044522018</td>\n",
       "      <td>DELIVERY CHARGE</td>\n",
       "      <td>EXTRAS</td>\n",
       "      <td>1.0</td>\n",
       "      <td>1,70</td>\n",
       "      <td>2018-12-31 21:55:18.000</td>\n",
       "      <td>2</td>\n",
       "      <td>1</td>\n",
       "      <td>1</td>\n",
       "      <td>33349</td>\n",
       "      <td>STROBOLOS</td>\n",
       "      <td>2018-12-31 21:38:08.850</td>\n",
       "    </tr>\n",
       "    <tr>\n",
       "      <td>84108</td>\n",
       "      <td>320044532018</td>\n",
       "      <td>DELIVERY CHARGE</td>\n",
       "      <td>EXTRAS</td>\n",
       "      <td>1.0</td>\n",
       "      <td>1,70</td>\n",
       "      <td>2018-12-31 21:55:41.000</td>\n",
       "      <td>2</td>\n",
       "      <td>1</td>\n",
       "      <td>1</td>\n",
       "      <td>34071</td>\n",
       "      <td>LAKATAMEIA</td>\n",
       "      <td>2018-12-31 21:47:25.807</td>\n",
       "    </tr>\n",
       "  </tbody>\n",
       "</table>\n",
       "<p>3892 rows × 12 columns</p>\n",
       "</div>"
      ],
      "text/plain": [
       "          DocNumber ProductDesignation ProductFamily  Qty TotalAmount  \\\n",
       "54     320000012018    DELIVERY CHARGE        EXTRAS  1.0        1,00   \n",
       "62     320000022018    DELIVERY CHARGE        EXTRAS  1.0        1,00   \n",
       "69     320000032018    DELIVERY CHARGE        EXTRAS  1.0        1,70   \n",
       "73     320000042018    DELIVERY CHARGE        EXTRAS  1.0        1,00   \n",
       "82     320000052018    DELIVERY CHARGE        EXTRAS  1.0        1,70   \n",
       "...             ...                ...           ...  ...         ...   \n",
       "84083  320044482018    DELIVERY CHARGE        EXTRAS  1.0        1,70   \n",
       "84093  320044502018    DELIVERY CHARGE        EXTRAS  1.0        1,70   \n",
       "84098  320044512018    DELIVERY CHARGE        EXTRAS  1.0        1,70   \n",
       "84104  320044522018    DELIVERY CHARGE        EXTRAS  1.0        1,70   \n",
       "84108  320044532018    DELIVERY CHARGE        EXTRAS  1.0        1,70   \n",
       "\n",
       "               InvoiceDateHour  EmployeeID  IsDelivery  Pax  CustomerID  \\\n",
       "54     2018-01-01 19:12:12.000           2           1    1       53908   \n",
       "62     2018-01-01 19:12:28.000           2           1    1        1072   \n",
       "69     2018-01-01 20:13:42.000           2           1    1       45483   \n",
       "73     2018-01-01 20:13:54.000           2           1    1       45485   \n",
       "82     2018-01-01 20:14:07.000           2           1    1       45351   \n",
       "...                        ...         ...         ...  ...         ...   \n",
       "84083  2018-12-31 21:13:39.000           2           1    1       31522   \n",
       "84093  2018-12-31 21:23:34.000           2           1    1       33294   \n",
       "84098  2018-12-31 21:54:08.000           2           1    1       34206   \n",
       "84104  2018-12-31 21:55:18.000           2           1    1       33349   \n",
       "84108  2018-12-31 21:55:41.000           2           1    1       34071   \n",
       "\n",
       "      CustomerCity            CustomerSince  \n",
       "54        LEYKOSIA                      NaN  \n",
       "62        LEYKOSIA  2016-03-10 20:52:43.220  \n",
       "69      LAKATAMEIA  2018-01-01 19:56:39.830  \n",
       "73       STROBOLOS  2018-01-01 20:02:27.267  \n",
       "82      LAKATAMEIA  2017-12-02 20:06:33.597  \n",
       "...            ...                      ...  \n",
       "84083     LEYKOSIA  2018-12-31 21:12:53.553  \n",
       "84093       EGKOMI  2018-12-31 21:22:58.913  \n",
       "84098    STROBOLOS  2018-12-31 21:53:32.487  \n",
       "84104    STROBOLOS  2018-12-31 21:38:08.850  \n",
       "84108   LAKATAMEIA  2018-12-31 21:47:25.807  \n",
       "\n",
       "[3892 rows x 12 columns]"
      ]
     },
     "execution_count": 29,
     "metadata": {},
     "output_type": "execute_result"
    }
   ],
   "source": [
    "df_IsDelivery[df_IsDelivery.ProductDesignation=='DELIVERY CHARGE']"
   ]
  },
  {
   "cell_type": "code",
   "execution_count": 31,
   "metadata": {},
   "outputs": [
    {
     "data": {
      "text/plain": [
       "(4866,)"
      ]
     },
     "execution_count": 31,
     "metadata": {},
     "output_type": "execute_result"
    }
   ],
   "source": [
    "df_IsDelivery.DocNumber.unique().shape\n",
    "# nem todos os invoices de delivery têm delivery charge\n",
    "#takeaway???"
   ]
  },
  {
   "cell_type": "code",
   "execution_count": null,
   "metadata": {},
   "outputs": [],
   "source": []
  }
 ],
 "metadata": {
  "kernelspec": {
   "display_name": "Python 3",
   "language": "python",
   "name": "python3"
  },
  "language_info": {
   "codemirror_mode": {
    "name": "ipython",
    "version": 3
   },
   "file_extension": ".py",
   "mimetype": "text/x-python",
   "name": "python",
   "nbconvert_exporter": "python",
   "pygments_lexer": "ipython3",
   "version": "3.7.6"
  }
 },
 "nbformat": 4,
 "nbformat_minor": 4
}
